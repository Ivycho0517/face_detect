{
 "cells": [
  {
   "cell_type": "code",
   "execution_count": 1,
   "metadata": {},
   "outputs": [
    {
     "name": "stdout",
     "output_type": "stream",
     "text": [
      "Requirement already satisfied: cmake in c:\\users\\chin chun tseng\\.conda\\envs\\python36\\lib\\site-packages (3.21.1.post1)\n",
      "Requirement already satisfied: boost in c:\\users\\chin chun tseng\\.conda\\envs\\python36\\lib\\site-packages (0.1)\n",
      "Requirement already satisfied: Mastodon.py in c:\\users\\chin chun tseng\\.conda\\envs\\python36\\lib\\site-packages (from boost) (1.5.1)\n",
      "Requirement already satisfied: sqlalchemy in c:\\users\\chin chun tseng\\.conda\\envs\\python36\\lib\\site-packages (from boost) (1.4.23)\n",
      "Requirement already satisfied: python-dateutil in c:\\users\\chin chun tseng\\.conda\\envs\\python36\\lib\\site-packages (from Mastodon.py->boost) (2.8.1)\n",
      "Requirement already satisfied: six in c:\\users\\chin chun tseng\\.conda\\envs\\python36\\lib\\site-packages (from Mastodon.py->boost) (1.14.0)\n",
      "Requirement already satisfied: pytz in c:\\users\\chin chun tseng\\.conda\\envs\\python36\\lib\\site-packages (from Mastodon.py->boost) (2020.1)\n",
      "Requirement already satisfied: python-magic in c:\\users\\chin chun tseng\\.conda\\envs\\python36\\lib\\site-packages (from Mastodon.py->boost) (0.4.24)\n",
      "Requirement already satisfied: requests>=2.4.2 in c:\\users\\chin chun tseng\\.conda\\envs\\python36\\lib\\site-packages (from Mastodon.py->boost) (2.23.0)\n",
      "Requirement already satisfied: decorator>=4.0.0 in c:\\users\\chin chun tseng\\.conda\\envs\\python36\\lib\\site-packages (from Mastodon.py->boost) (4.4.2)\n",
      "Requirement already satisfied: blurhash>=1.1.4 in c:\\users\\chin chun tseng\\.conda\\envs\\python36\\lib\\site-packages (from Mastodon.py->boost) (1.1.4)\n",
      "Requirement already satisfied: greenlet!=0.4.17; python_version >= \"3\" and platform_machine in \"x86_64 X86_64 aarch64 AARCH64 ppc64le PPC64LE amd64 AMD64 win32 WIN32\" in c:\\users\\chin chun tseng\\.conda\\envs\\python36\\lib\\site-packages (from sqlalchemy->boost) (1.1.1)\n",
      "Requirement already satisfied: importlib-metadata; python_version < \"3.8\" in c:\\users\\chin chun tseng\\.conda\\envs\\python36\\lib\\site-packages (from sqlalchemy->boost) (1.5.0)\n",
      "Requirement already satisfied: urllib3!=1.25.0,!=1.25.1,<1.26,>=1.21.1 in c:\\users\\chin chun tseng\\.conda\\envs\\python36\\lib\\site-packages (from requests>=2.4.2->Mastodon.py->boost) (1.25.8)\n",
      "Requirement already satisfied: certifi>=2017.4.17 in c:\\users\\chin chun tseng\\.conda\\envs\\python36\\lib\\site-packages (from requests>=2.4.2->Mastodon.py->boost) (2021.5.30)\n",
      "Requirement already satisfied: idna<3,>=2.5 in c:\\users\\chin chun tseng\\.conda\\envs\\python36\\lib\\site-packages (from requests>=2.4.2->Mastodon.py->boost) (2.9)\n",
      "Requirement already satisfied: chardet<4,>=3.0.2 in c:\\users\\chin chun tseng\\.conda\\envs\\python36\\lib\\site-packages (from requests>=2.4.2->Mastodon.py->boost) (3.0.4)\n",
      "Requirement already satisfied: zipp>=0.5 in c:\\users\\chin chun tseng\\.conda\\envs\\python36\\lib\\site-packages (from importlib-metadata; python_version < \"3.8\"->sqlalchemy->boost) (3.1.0)\n",
      "Requirement already satisfied: dlib in c:\\users\\chin chun tseng\\.conda\\envs\\python36\\lib\\site-packages (19.22.1)\n"
     ]
    }
   ],
   "source": [
    "# !pip install cmake\n",
    "# !pip install boost\n",
    "# !pip install dlib"
   ]
  },
  {
   "cell_type": "code",
   "execution_count": 2,
   "metadata": {},
   "outputs": [],
   "source": [
    "import cv2 \n",
    "import dlib"
   ]
  },
  {
   "cell_type": "code",
   "execution_count": 3,
   "metadata": {},
   "outputs": [],
   "source": [
    "cap = cv2.VideoCapture(0) #開啟攝影機"
   ]
  },
  {
   "cell_type": "code",
   "execution_count": 4,
   "metadata": {},
   "outputs": [],
   "source": [
    "hog_face_detector = dlib.get_frontal_face_detector() #建立偵測物件\n",
    "dlib_facelandmark = dlib.shape_predictor('shape_predictor_68_face_landmarks.dat') #68點臉部特徵圖形檔"
   ]
  },
  {
   "cell_type": "code",
   "execution_count": 5,
   "metadata": {},
   "outputs": [],
   "source": [
    "while True:\n",
    "    _, frame = cap.read()\n",
    "    gray = cv2.cvtColor(frame,cv2.COLOR_BGR2GRAY)\n",
    "    faces = hog_face_detector(gray)\n",
    "    for face in faces:\n",
    "        face_landmarks = dlib_facelandmark(gray,face) #臉孔標記檢測器\n",
    "        for n in range(68): #分別記錄68個點各自的x與y\n",
    "            x = face_landmarks.part(n).x\n",
    "            y = face_landmarks.part(n).y\n",
    "            cv2.circle(frame,(x,y),1,(0,255,255),1)  #圖 圓心 半徑 顏色 寬度\n",
    "    cv2.imshow('face landmarks',frame)\n",
    "    keys = cv2.waitKey(1)\n",
    "    if keys == 27:\n",
    "        break\n",
    "cap.release()\n",
    "cv2.destroyAllWindows()"
   ]
  }
 ],
 "metadata": {
  "kernelspec": {
   "display_name": "Python 3",
   "language": "python",
   "name": "python3"
  },
  "language_info": {
   "codemirror_mode": {
    "name": "ipython",
    "version": 3
   },
   "file_extension": ".py",
   "mimetype": "text/x-python",
   "name": "python",
   "nbconvert_exporter": "python",
   "pygments_lexer": "ipython3",
   "version": "3.6.10"
  }
 },
 "nbformat": 4,
 "nbformat_minor": 4
}
