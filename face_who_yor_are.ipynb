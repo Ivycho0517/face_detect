{
 "cells": [
  {
   "cell_type": "code",
   "execution_count": 1,
   "metadata": {},
   "outputs": [],
   "source": [
    "import cv2\n",
    "import dlib\n",
    "import matplotlib.pyplot as plt\n",
    "import numpy as np\n",
    "import os"
   ]
  },
  {
   "cell_type": "code",
   "execution_count": 2,
   "metadata": {},
   "outputs": [],
   "source": [
    "detector = dlib.get_frontal_face_detector()"
   ]
  },
  {
   "cell_type": "code",
   "execution_count": 3,
   "metadata": {},
   "outputs": [],
   "source": [
    "sp = dlib.shape_predictor('shape_predictor_68_face_landmarks.dat') #68個臉部偵測點"
   ]
  },
  {
   "cell_type": "code",
   "execution_count": 4,
   "metadata": {},
   "outputs": [],
   "source": [
    "model = dlib.face_recognition_model_v1('dlib_face_recognition_resnet_model_v1.dat') #人臉辨識"
   ]
  },
  {
   "cell_type": "code",
   "execution_count": 5,
   "metadata": {},
   "outputs": [],
   "source": [
    "# cap = cv2.VideoCapture(0)\n",
    "# while True:\n",
    "#     ret,frame =  cap.read()\n",
    "#     cv2.imshow('img2',frame)\n",
    "#     keys = cv2.waitKey(1)\n",
    "#     if keys == 27:\n",
    "#         cv2.imwrite('input/1.jpg',frame)\n",
    "#         break\n",
    "# cap.release()\n",
    "# cv2.destroyAllWindows()"
   ]
  },
  {
   "cell_type": "code",
   "execution_count": 6,
   "metadata": {},
   "outputs": [],
   "source": [
    "def sample_database(image_1):\n",
    "        img = dlib.load_rgb_image(image_1)\n",
    "        img_detected = detector(img,1)\n",
    "        img_shape = sp(img,img_detected[0])\n",
    "        img_aligned = dlib.get_face_chip(img,img_shape)\n",
    "        img_representation = model.compute_face_descriptor(img_aligned)\n",
    "        img_representation = np.array(img_representation)\n",
    "        return img_representation,img_detected"
   ]
  },
  {
   "cell_type": "code",
   "execution_count": 7,
   "metadata": {},
   "outputs": [
    {
     "name": "stdout",
     "output_type": "stream",
     "text": [
      "您好,An\n"
     ]
    }
   ],
   "source": [
    "file_list = os.listdir('sample/')\n",
    "num = 0\n",
    "for i in file_list:\n",
    "    v = sample_database('sample/'+i)[0]\n",
    "    v1 = sample_database('input/1.png')[0]\n",
    "    Euclidean_distance = np.sqrt(sum((v1-v)**2))\n",
    "    num +=1\n",
    "    if Euclidean_distance < 0.43:\n",
    "        name = i.split('.')[0]\n",
    "        print('您好,'+name)\n",
    "        break\n",
    "    if num == len(file_list):\n",
    "        print('查無此人')"
   ]
  }
 ],
 "metadata": {
  "kernelspec": {
   "display_name": "Python 3",
   "language": "python",
   "name": "python3"
  },
  "language_info": {
   "codemirror_mode": {
    "name": "ipython",
    "version": 3
   },
   "file_extension": ".py",
   "mimetype": "text/x-python",
   "name": "python",
   "nbconvert_exporter": "python",
   "pygments_lexer": "ipython3",
   "version": "3.6.10"
  }
 },
 "nbformat": 4,
 "nbformat_minor": 4
}
